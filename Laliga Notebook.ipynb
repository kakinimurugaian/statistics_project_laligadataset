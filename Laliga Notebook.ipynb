{
 "cells": [
  {
   "cell_type": "code",
   "execution_count": 1,
   "id": "b2195525",
   "metadata": {},
   "outputs": [],
   "source": [
    "import pandas as pd"
   ]
  },
  {
   "cell_type": "markdown",
   "id": "9960de94",
   "metadata": {},
   "source": [
    "### 1.Read the data set and replace dashes with 0 to make sure you can perform arithmetic operations on the data. (2.5 points)"
   ]
  },
  {
   "cell_type": "code",
   "execution_count": 2,
   "id": "7941c91a",
   "metadata": {},
   "outputs": [
    {
     "data": {
      "text/html": [
       "<div>\n",
       "<style scoped>\n",
       "    .dataframe tbody tr th:only-of-type {\n",
       "        vertical-align: middle;\n",
       "    }\n",
       "\n",
       "    .dataframe tbody tr th {\n",
       "        vertical-align: top;\n",
       "    }\n",
       "\n",
       "    .dataframe thead th {\n",
       "        text-align: right;\n",
       "    }\n",
       "</style>\n",
       "<table border=\"1\" class=\"dataframe\">\n",
       "  <thead>\n",
       "    <tr style=\"text-align: right;\">\n",
       "      <th></th>\n",
       "      <th>Pos</th>\n",
       "      <th>Team</th>\n",
       "      <th>Seasons</th>\n",
       "      <th>Points</th>\n",
       "      <th>GamesPlayed</th>\n",
       "      <th>GamesWon</th>\n",
       "      <th>GamesDrawn</th>\n",
       "      <th>GamesLost</th>\n",
       "      <th>GoalsFor</th>\n",
       "      <th>GoalsAgainst</th>\n",
       "      <th>Champion</th>\n",
       "      <th>Runner-up</th>\n",
       "      <th>Third</th>\n",
       "      <th>Fourth</th>\n",
       "      <th>Fifth</th>\n",
       "      <th>Sixth</th>\n",
       "      <th>T</th>\n",
       "      <th>Debut</th>\n",
       "      <th>Since/LastApp</th>\n",
       "      <th>BestPosition</th>\n",
       "    </tr>\n",
       "  </thead>\n",
       "  <tbody>\n",
       "    <tr>\n",
       "      <th>0</th>\n",
       "      <td>1</td>\n",
       "      <td>Real Madrid</td>\n",
       "      <td>86</td>\n",
       "      <td>4385</td>\n",
       "      <td>2762</td>\n",
       "      <td>1647</td>\n",
       "      <td>552</td>\n",
       "      <td>563</td>\n",
       "      <td>5947</td>\n",
       "      <td>3140</td>\n",
       "      <td>33</td>\n",
       "      <td>23</td>\n",
       "      <td>8</td>\n",
       "      <td>8</td>\n",
       "      <td>3</td>\n",
       "      <td>4</td>\n",
       "      <td>79</td>\n",
       "      <td>1929</td>\n",
       "      <td>1929</td>\n",
       "      <td>1</td>\n",
       "    </tr>\n",
       "    <tr>\n",
       "      <th>1</th>\n",
       "      <td>2</td>\n",
       "      <td>Barcelona</td>\n",
       "      <td>86</td>\n",
       "      <td>4262</td>\n",
       "      <td>2762</td>\n",
       "      <td>1581</td>\n",
       "      <td>573</td>\n",
       "      <td>608</td>\n",
       "      <td>5900</td>\n",
       "      <td>3114</td>\n",
       "      <td>25</td>\n",
       "      <td>25</td>\n",
       "      <td>12</td>\n",
       "      <td>12</td>\n",
       "      <td>4</td>\n",
       "      <td>6</td>\n",
       "      <td>83</td>\n",
       "      <td>1929</td>\n",
       "      <td>1929</td>\n",
       "      <td>1</td>\n",
       "    </tr>\n",
       "    <tr>\n",
       "      <th>2</th>\n",
       "      <td>3</td>\n",
       "      <td>Atletico Madrid</td>\n",
       "      <td>80</td>\n",
       "      <td>3442</td>\n",
       "      <td>2614</td>\n",
       "      <td>1241</td>\n",
       "      <td>598</td>\n",
       "      <td>775</td>\n",
       "      <td>4534</td>\n",
       "      <td>3309</td>\n",
       "      <td>10</td>\n",
       "      <td>8</td>\n",
       "      <td>16</td>\n",
       "      <td>9</td>\n",
       "      <td>7</td>\n",
       "      <td>6</td>\n",
       "      <td>56</td>\n",
       "      <td>1929</td>\n",
       "      <td>2002-03</td>\n",
       "      <td>1</td>\n",
       "    </tr>\n",
       "    <tr>\n",
       "      <th>3</th>\n",
       "      <td>4</td>\n",
       "      <td>Valencia</td>\n",
       "      <td>82</td>\n",
       "      <td>3386</td>\n",
       "      <td>2664</td>\n",
       "      <td>1187</td>\n",
       "      <td>616</td>\n",
       "      <td>861</td>\n",
       "      <td>4398</td>\n",
       "      <td>3469</td>\n",
       "      <td>6</td>\n",
       "      <td>6</td>\n",
       "      <td>10</td>\n",
       "      <td>11</td>\n",
       "      <td>10</td>\n",
       "      <td>7</td>\n",
       "      <td>50</td>\n",
       "      <td>1931-32</td>\n",
       "      <td>1987-88</td>\n",
       "      <td>1</td>\n",
       "    </tr>\n",
       "    <tr>\n",
       "      <th>4</th>\n",
       "      <td>5</td>\n",
       "      <td>Athletic Bilbao</td>\n",
       "      <td>86</td>\n",
       "      <td>3368</td>\n",
       "      <td>2762</td>\n",
       "      <td>1209</td>\n",
       "      <td>633</td>\n",
       "      <td>920</td>\n",
       "      <td>4631</td>\n",
       "      <td>3700</td>\n",
       "      <td>8</td>\n",
       "      <td>7</td>\n",
       "      <td>10</td>\n",
       "      <td>5</td>\n",
       "      <td>8</td>\n",
       "      <td>10</td>\n",
       "      <td>49</td>\n",
       "      <td>1929</td>\n",
       "      <td>1929</td>\n",
       "      <td>1</td>\n",
       "    </tr>\n",
       "  </tbody>\n",
       "</table>\n",
       "</div>"
      ],
      "text/plain": [
       "   Pos             Team  Seasons Points GamesPlayed GamesWon GamesDrawn  \\\n",
       "0    1      Real Madrid       86   4385        2762     1647        552   \n",
       "1    2        Barcelona       86   4262        2762     1581        573   \n",
       "2    3  Atletico Madrid       80   3442        2614     1241        598   \n",
       "3    4         Valencia       82   3386        2664     1187        616   \n",
       "4    5  Athletic Bilbao       86   3368        2762     1209        633   \n",
       "\n",
       "  GamesLost GoalsFor GoalsAgainst Champion Runner-up Third Fourth Fifth Sixth  \\\n",
       "0       563     5947         3140       33        23     8      8     3     4   \n",
       "1       608     5900         3114       25        25    12     12     4     6   \n",
       "2       775     4534         3309       10         8    16      9     7     6   \n",
       "3       861     4398         3469        6         6    10     11    10     7   \n",
       "4       920     4631         3700        8         7    10      5     8    10   \n",
       "\n",
       "    T    Debut Since/LastApp  BestPosition  \n",
       "0  79     1929          1929             1  \n",
       "1  83     1929          1929             1  \n",
       "2  56     1929       2002-03             1  \n",
       "3  50  1931-32       1987-88             1  \n",
       "4  49     1929          1929             1  "
      ]
     },
     "execution_count": 2,
     "metadata": {},
     "output_type": "execute_result"
    }
   ],
   "source": [
    "data = pd.read_csv('Laliga.csv',skiprows=1)\n",
    "data.head(5)"
   ]
  },
  {
   "cell_type": "markdown",
   "id": "7b9deb89",
   "metadata": {},
   "source": [
    "I am skipping the first row because , the correct headers are in second row "
   ]
  },
  {
   "cell_type": "code",
   "execution_count": 4,
   "id": "16b68cdc",
   "metadata": {},
   "outputs": [
    {
     "data": {
      "text/plain": [
       "Pos              False\n",
       "Team             False\n",
       "Seasons          False\n",
       "Points            True\n",
       "GamesPlayed       True\n",
       "GamesWon          True\n",
       "GamesDrawn        True\n",
       "GamesLost         True\n",
       "GoalsFor          True\n",
       "GoalsAgainst      True\n",
       "Champion          True\n",
       "Runner-up         True\n",
       "Third             True\n",
       "Fourth            True\n",
       "Fifth             True\n",
       "Sixth             True\n",
       "T                 True\n",
       "Debut            False\n",
       "Since/LastApp    False\n",
       "BestPosition     False\n",
       "dtype: bool"
      ]
     },
     "execution_count": 4,
     "metadata": {},
     "output_type": "execute_result"
    }
   ],
   "source": [
    "#checking for nan or ''-' if there any iam going to replace with zero\n",
    "data.isin(['-']).any()"
   ]
  },
  {
   "cell_type": "markdown",
   "id": "4437ec85",
   "metadata": {},
   "source": [
    "There are columns which has '-' , so lets change to zer0"
   ]
  },
  {
   "cell_type": "code",
   "execution_count": 5,
   "id": "27551069",
   "metadata": {},
   "outputs": [],
   "source": [
    "data.replace('-' , 0 , inplace = True)"
   ]
  },
  {
   "cell_type": "markdown",
   "id": "7c44844c",
   "metadata": {},
   "source": [
    "### 2.Print all the teams which have started playing between 1930-1980. (5 points)"
   ]
  },
  {
   "cell_type": "markdown",
   "id": "49ebd829",
   "metadata": {},
   "source": [
    "This dataset contains lots of NaN lets replace them by using median"
   ]
  },
  {
   "cell_type": "code",
   "execution_count": 18,
   "id": "a20cee80",
   "metadata": {},
   "outputs": [],
   "source": [
    "median_debut = data['Debut'].mean()\n",
    "data['Debut'].fillna(median_debut, inplace=True)"
   ]
  },
  {
   "cell_type": "code",
   "execution_count": 20,
   "id": "75792e17",
   "metadata": {},
   "outputs": [
    {
     "name": "stdout",
     "output_type": "stream",
     "text": [
      "Series([], Name: Team, dtype: object)\n"
     ]
    }
   ],
   "source": [
    "# Converted 'Debut' column to numeric, replacing any invalid parsing with NaN\n",
    "data['Debut'] = pd.to_numeric(data['Debut'], errors='coerce')\n",
    "teams_1930_1980 = data[(data['Debut'] >= 1930) & (data['Debut'] <= 1980)]\n",
    "print(teams_1930_1980['Team'])"
   ]
  },
  {
   "cell_type": "markdown",
   "id": "0ccc44dc",
   "metadata": {},
   "source": [
    "this dataset has no team debuted during 1930-1980"
   ]
  },
  {
   "cell_type": "markdown",
   "id": "80cd45cd",
   "metadata": {},
   "source": [
    "### 3.Print the list of teams which came Top 5 in terms of points (2.5 points)"
   ]
  },
  {
   "cell_type": "code",
   "execution_count": 23,
   "id": "5cffb5c5",
   "metadata": {},
   "outputs": [
    {
     "name": "stdout",
     "output_type": "stream",
     "text": [
      "              Team  Points\n",
      "0      Real Madrid    4385\n",
      "1        Barcelona    4262\n",
      "2  Atletico Madrid    3442\n",
      "3         Valencia    3386\n",
      "4  Athletic Bilbao    3368\n"
     ]
    }
   ],
   "source": [
    "data['Points'] = pd.to_numeric(data['Points'], errors='coerce')\n",
    "top_5_teams = pd.DataFrame(data.nlargest(5, 'Points'))\n",
    "print(top_5_teams[['Team', 'Points']])"
   ]
  },
  {
   "cell_type": "markdown",
   "id": "f968b4b0",
   "metadata": {},
   "source": [
    "These are the top 5 teams in terms of points"
   ]
  },
  {
   "cell_type": "markdown",
   "id": "f3a375c2",
   "metadata": {},
   "source": [
    "### 4. Write a function Goal_diff_count and find the teams with maximum and minimum goal difference (5 points)"
   ]
  },
  {
   "cell_type": "code",
   "execution_count": 32,
   "id": "cfd48418",
   "metadata": {},
   "outputs": [
    {
     "name": "stdout",
     "output_type": "stream",
     "text": [
      "Team with Maximum Goal Difference:\n",
      " Pos        Team  Seasons  Points GamesPlayed GamesWon GamesDrawn GamesLost  GoalsFor  GoalsAgainst Champion Runner-up Third Fourth Fifth Sixth  T  Debut Since/LastApp  BestPosition  GoalDifference\n",
      "   1 Real Madrid       86    4385        2762     1647        552       563      5947          3140       33        23     8      8     3     4 79 1929.0          1929             1            2807\n",
      "\n",
      "Team with Minimum Goal Difference:\n",
      " Pos             Team  Seasons  Points GamesPlayed GamesWon GamesDrawn GamesLost  GoalsFor  GoalsAgainst Champion Runner-up Third Fourth Fifth Sixth T  Debut Since/LastApp  BestPosition  GoalDifference\n",
      "  14 Racing Santander       44    1416        1428      453        336       639      1843          2368        0         1     1      2     0     1 5 1929.0       2011-12             2            -525\n"
     ]
    }
   ],
   "source": [
    "def Goal_diff_count(df):\n",
    "    df['GoalsFor'] = pd.to_numeric(df['GoalsFor'], errors='coerce').fillna(0)\n",
    "    df['GoalsAgainst'] = pd.to_numeric(df['GoalsAgainst'], errors='coerce').fillna(0)\n",
    "    \n",
    "    df['GoalDifference'] = df['GoalsFor'] - df['GoalsAgainst']\n",
    "    \n",
    "    return df[['Team', 'GoalDifference']]\n",
    "\n",
    "laliga = Goal_diff_count(data)\n",
    "\n",
    "max_goal_team = data.loc[[data['GoalDifference'].idxmax()]]  \n",
    "min_goal_team = data.loc[[data['GoalDifference'].idxmin()]]  \n",
    "print(\"Team with Maximum Goal Difference:\")\n",
    "print(max_goal_team.to_string(index=False))  \n",
    "\n",
    "print(\"\\nTeam with Minimum Goal Difference:\")\n",
    "print(min_goal_team.to_string(index=False))  "
   ]
  },
  {
   "cell_type": "markdown",
   "id": "218749a3",
   "metadata": {},
   "source": [
    "### 5.Create a new column \"Winning Percent\" and print the top 5 teams with the highest percentage (5 points)"
   ]
  },
  {
   "cell_type": "code",
   "execution_count": 33,
   "id": "d98d12af",
   "metadata": {},
   "outputs": [
    {
     "name": "stdout",
     "output_type": "stream",
     "text": [
      "              Team  WinningPercent\n",
      "0      Real Madrid       59.630702\n",
      "1        Barcelona       57.241130\n",
      "2  Atletico Madrid       47.475134\n",
      "3         Valencia       44.557057\n",
      "4  Athletic Bilbao       43.772629\n"
     ]
    }
   ],
   "source": [
    "data['GamesWon'] = pd.to_numeric(data['GamesWon'], errors='coerce')\n",
    "data['GamesPlayed'] = pd.to_numeric(data['GamesPlayed'], errors='coerce')\n",
    "\n",
    "data['WinningPercent'] = (data['GamesWon'] / data['GamesPlayed']) * 100\n",
    "\n",
    "data['WinningPercent'].fillna(0, inplace=True)\n",
    "\n",
    "top_5_winning = data.nlargest(5, 'WinningPercent')\n",
    "print(top_5_winning[['Team', 'WinningPercent']])\n"
   ]
  },
  {
   "cell_type": "markdown",
   "id": "91eaa453",
   "metadata": {},
   "source": [
    "### 6. Group teams based on their \"Best position\" and print the sum of their points (10 points)"
   ]
  },
  {
   "cell_type": "code",
   "execution_count": 34,
   "id": "e650cf0a",
   "metadata": {},
   "outputs": [
    {
     "name": "stdout",
     "output_type": "stream",
     "text": [
      "    BestPosition  Points\n",
      "0              1   27933\n",
      "1              2    6904\n",
      "2              3    5221\n",
      "3              4    6563\n",
      "4              5    1884\n",
      "5              6    2113\n",
      "6              7    1186\n",
      "7              8    1134\n",
      "8              9      96\n",
      "9             10     450\n",
      "10            11     445\n",
      "11            12     511\n",
      "12            14      71\n",
      "13            15      14\n",
      "14            16      81\n",
      "15            17     266\n",
      "16            19      81\n",
      "17            20      34\n"
     ]
    }
   ],
   "source": [
    "data['BestPosition'] = pd.to_numeric(data['BestPosition'], errors='coerce')\n",
    "\n",
    "grouped_points = data.groupby('BestPosition')['Points'].sum().reset_index()\n",
    "\n",
    "print(grouped_points)"
   ]
  },
  {
   "cell_type": "code",
   "execution_count": null,
   "id": "46fe9b60",
   "metadata": {},
   "outputs": [],
   "source": []
  }
 ],
 "metadata": {
  "kernelspec": {
   "display_name": "Python 3 (ipykernel)",
   "language": "python",
   "name": "python3"
  },
  "language_info": {
   "codemirror_mode": {
    "name": "ipython",
    "version": 3
   },
   "file_extension": ".py",
   "mimetype": "text/x-python",
   "name": "python",
   "nbconvert_exporter": "python",
   "pygments_lexer": "ipython3",
   "version": "3.11.5"
  }
 },
 "nbformat": 4,
 "nbformat_minor": 5
}
